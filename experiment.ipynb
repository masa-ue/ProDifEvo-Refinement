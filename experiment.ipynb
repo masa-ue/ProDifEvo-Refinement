{
 "cells": [
  {
   "cell_type": "code",
   "execution_count": 6,
   "metadata": {},
   "outputs": [
    {
     "name": "stderr",
     "output_type": "stream",
     "text": [
      "Downloading: \"https://zenodo.org/record/8045076/files/oaar-38M.tar?download=1\" to /home/ueharam1/.cache/torch/hub/checkpoints/oaar-38M.tar\n",
      "100%|██████████| 434M/434M [00:25<00:00, 17.7MB/s] \n"
     ]
    }
   ],
   "source": [
    "from evodiff.pretrained import OA_DM_38M\n",
    "\n",
    "checkpoint = OA_DM_38M()\n",
    "model, collater, tokenizer, scheme = checkpoint"
   ]
  },
  {
   "cell_type": "code",
   "execution_count": 7,
   "metadata": {},
   "outputs": [
    {
     "name": "stderr",
     "output_type": "stream",
     "text": [
      "100%|██████████| 100/100 [00:18<00:00,  5.48it/s]"
     ]
    },
    {
     "name": "stdout",
     "output_type": "stream",
     "text": [
      "Generated sequence: ['SRLVYVVPFDNGNRFLAVLPLPADEAVRVSDTQLSAGTEEPDTVKLCLTPPPLCRGPKGGLRCRSCGKARDTAGRQSFVRCSCQPPRFGEEAERGWDLPG']\n"
     ]
    },
    {
     "name": "stderr",
     "output_type": "stream",
     "text": [
      "\n"
     ]
    }
   ],
   "source": [
    "from evodiff.generate import generate_oaardm\n",
    "\n",
    "seq_len = 100\n",
    "tokenized_sample, generated_sequence = generate_oaardm(model, tokenizer, seq_len, batch_size=1, device='cpu')\n",
    "print(\"Generated sequence:\", generated_sequence)"
   ]
  },
  {
   "cell_type": "code",
   "execution_count": 8,
   "metadata": {},
   "outputs": [
    {
     "name": "stdout",
     "output_type": "stream",
     "text": [
      "['SRLVYVVPFDNGNRFLAVLPLPADEAVRVSDTQLSAGTEEPDTVKLCLTPPPLCRGPKGGLRCRSCGKARDTAGRQSFVRCSCQPPRFGEEAERGWDLPG']\n"
     ]
    }
   ],
   "source": [
    "print(generated_sequence)"
   ]
  },
  {
   "cell_type": "code",
   "execution_count": 1,
   "metadata": {},
   "outputs": [
    {
     "name": "stdout",
     "output_type": "stream",
     "text": [
      "┌──────────────────────────────────────────────────────────────────────────────┐\n",
      "│                                 PyRosetta-4                                  │\n",
      "│              Created in JHU by Sergey Lyskov and PyRosetta Team              │\n",
      "│              (C) Copyright Rosetta Commons Member Institutions               │\n",
      "│                                                                              │\n",
      "│ NOTE: USE OF PyRosetta FOR COMMERCIAL PURPOSES REQUIRE PURCHASE OF A LICENSE │\n",
      "│         See LICENSE.PyRosetta.md or email license@uw.edu for details         │\n",
      "└──────────────────────────────────────────────────────────────────────────────┘\n",
      "PyRosetta-4 2024 [Rosetta PyRosetta4.Debug.python38.linux 2024.39+release.59628fbc5bc09f1221e1642f1f8d157ce49b1410 2024-09-23T07:49:48] retrieved from: http://www.pyrosetta.org\n"
     ]
    }
   ],
   "source": [
    "from reward import pdb_to_match_ss_score\n"
   ]
  },
  {
   "cell_type": "code",
   "execution_count": 12,
   "metadata": {},
   "outputs": [],
   "source": [
    "aaa, bbb =pdb_to_match_ss_score(\"/home/ueharam1/projects3/Proteindesign_diffusion/log/2025-01-23 16:55:23.038737/debug/EA|run2_0325_0005_1.pdb\")\n",
    "aaa1, bbb1  = pdb_to_match_ss_score(\"/home/ueharam1/projects3/Proteindesign_diffusion/datasets/AlphaFold_model_PDBs/EA:run2_0325_0005.pdb\") "
   ]
  },
  {
   "cell_type": "code",
   "execution_count": 13,
   "metadata": {},
   "outputs": [
    {
     "name": "stdout",
     "output_type": "stream",
     "text": [
      "0.06382978723404255 ['c' 'a' 'a' 'a' 'a' 'a' 'a' 'a' 'a' 'a' 'a' 'a' 'a' 'a' 'a' 'a' 'a' 'a'\n",
      " 'a' 'a' 'a' 'a' 'a' 'a' 'a' 'a' 'a' 'a' 'a' 'a' 'a' 'a' 'a' 'a' 'a' 'a'\n",
      " 'a' 'a' 'a' 'a' 'a' 'a' 'a' 'a' 'a' 'c' 'c']\n",
      "0.46808510638297873 ['c' 'b' 'b' 'b' 'b' 'b' 'c' 'c' 'c' 'b' 'b' 'b' 'b' 'b' 'c' 'c' 'c' 'c'\n",
      " 'a' 'a' 'a' 'a' 'a' 'a' 'a' 'a' 'a' 'a' 'a' 'a' 'a' 'c' 'c' 'c' 'a' 'a'\n",
      " 'a' 'a' 'a' 'a' 'a' 'a' 'a' 'a' 'a' 'a' 'c']\n"
     ]
    }
   ],
   "source": [
    "print(aaa, bbb)\n",
    "print(aaa1,bbb1)"
   ]
  },
  {
   "cell_type": "code",
   "execution_count": null,
   "metadata": {},
   "outputs": [],
   "source": []
  }
 ],
 "metadata": {
  "kernelspec": {
   "display_name": "evodiff2",
   "language": "python",
   "name": "python3"
  },
  "language_info": {
   "codemirror_mode": {
    "name": "ipython",
    "version": 3
   },
   "file_extension": ".py",
   "mimetype": "text/x-python",
   "name": "python",
   "nbconvert_exporter": "python",
   "pygments_lexer": "ipython3",
   "version": "3.8.20"
  }
 },
 "nbformat": 4,
 "nbformat_minor": 2
}
